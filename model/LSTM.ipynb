{
 "cells": [
  {
   "cell_type": "code",
   "execution_count": 1,
   "metadata": {},
   "outputs": [],
   "source": [
    "import torch\n",
    "import torch.nn as nn\n",
    "import torch.nn.functional as F\n",
    "\n",
    "from torch.autograd import Variable\n",
    "from torch.nn.parameter import Parameter\n",
    "\n",
    "import numpy as np"
   ]
  },
  {
   "cell_type": "code",
   "execution_count": 31,
   "metadata": {},
   "outputs": [],
   "source": [
    "def LSTMCell(input, hidden, weight_input, weight_hidden, bias_input=None, bias_hidden=None):\n",
    "    gates = F.linear(input, weight_input, bias_input) + \\\n",
    "        F.linear(hidden, weight_hidden, bias_hidden)\n",
    "    \n",
    "    forget_gate, input_gate, cell_gate, output_gate = gates.chunk(4,1)\n",
    "    \n",
    "    forget_gate = F.sigmoid(forget_gate)\n",
    "    input_gate = F.sigmoid(input_gate)\n",
    "    cell_gate = F.tanh(cell_gate)\n",
    "    output_gate = F.sigmoid(output_gate)\n",
    "    \n",
    "    cell_state = hidden * forget_gate + (input_gate * cell_gate)\n",
    "    \n",
    "    hidden_state = output_gate * F.tanh(cell_state)\n",
    "    \n",
    "    return cell_state, hidden_state\n",
    "    "
   ]
  },
  {
   "cell_type": "code",
   "execution_count": 33,
   "metadata": {
    "collapsed": true
   },
   "outputs": [],
   "source": [
    "class GRUCell(nn.Module):\n",
    "    def __init__(self, input_size, hidden_size, bias=True):\n",
    "        super().__init__()\n",
    "        self.input_size = input_size\n",
    "        self.hidden_size = hidden_size\n",
    "        \n",
    "        self.W = Parameter(torch.Tensor(3 * hidden_size, input_size))\n",
    "        self.U = Parameter(torch.Tensor(3 * hidden_size, hidden_size))\n",
    "        \n",
    "        if bias:\n",
    "            self.bias_input = Parameter(torch.Tensor(3 * hidden_size, hidden_size))\n",
    "            self.bias_hidden = Parameter(torch.Tensor(3 * hidden_size, hidden_size))\n",
    "        else:\n",
    "            self.bias_input = None\n",
    "            self.bias_hidden = None\n",
    "        \n",
    "    def forward(self, input, hidden):\n",
    "        tmp_input = F.linear(input, self.W, self.bias_input)\n",
    "        tmp_hidden = F.linear(hidden, self.U, self.bias_hidden)\n",
    "\n",
    "        reset_input, update_input, output_input = tmp_input.chunk(3,1)\n",
    "        reset_hidden, update_hidden, output_hidden = tmp_hidden.chunk(3,1)\n",
    "\n",
    "        reset_gate = F.sigmoid(reset_input + reset_hidden)\n",
    "        update_gate = F.sigmoid(update_input + update_hidden)\n",
    "        output_gate = F.tanh(reset_gate + output_input + output_hidden)\n",
    "\n",
    "        new_hidden = (1 - update_gate) * hidden + update_gate * output_gate\n",
    "        return new_hidden\n",
    "        "
   ]
  },
  {
   "cell_type": "code",
   "execution_count": 40,
   "metadata": {},
   "outputs": [],
   "source": [
    "class LSTM(nn.Module):\n",
    "    '''\n",
    "    LSTM with a GRU cell\n",
    "    '''\n",
    "    def __init__(self, input_size, hidden_size, bias=True,\n",
    "                num_layers=1, batch_first=False):\n",
    "        super().__init__()\n",
    "        self.input_size = input_size\n",
    "        self.hidden_size = hidden_size\n",
    "        \n",
    "        if bias:\n",
    "            self.bias_input = Parameter(torch.Tensor(3 * hidden_size, hidden_size))\n",
    "            self.bias_hidden = Parameter(torch.Tensor(3 * hidden_size, hidden_size))\n",
    "        else:\n",
    "            self.bias_input = None\n",
    "            self.bias_hidden = None\n",
    "                        \n",
    "        self.gru = GRUCell(self.input_size, self.hidden_size)\n",
    "            \n",
    "    def forward(self, input, prev_state):\n",
    "        return self.gru.forward(input, prev_state)\n",
    "        "
   ]
  },
  {
   "cell_type": "markdown",
   "metadata": {},
   "source": [
    "Weight Input includes weights for all gates so its (input_size * 3)"
   ]
  },
  {
   "cell_type": "markdown",
   "metadata": {
    "collapsed": true
   },
   "source": [
    "is f.linear + f.linear == f.linear(torch.concat)"
   ]
  },
  {
   "cell_type": "code",
   "execution_count": 29,
   "metadata": {},
   "outputs": [
    {
     "data": {
      "text/plain": [
       "\n",
       " 1  1  1  1  1\n",
       " 1  1  1  1  1\n",
       "[torch.FloatTensor of size 2x5]"
      ]
     },
     "execution_count": 29,
     "metadata": {},
     "output_type": "execute_result"
    }
   ],
   "source": [
    "input = torch.ones(5,2)\n",
    "hidden = torch.ones(5,2)\n",
    "\n",
    "w_ih = torch.ones(5,2)\n",
    "w_hh = torch.ones(5,2)\n",
    "\n",
    "lin1 = F.linear(input, w_ih, None)\n",
    "lin2 = F.linear(hidden, w_hh, None)\n",
    "\n",
    "concat_input = torch.cat([input, hidden])\n",
    "concat_weight = torch.cat([w_ih, w_hh])\n",
    "\n",
    "res2 = F.linear(concat_input, concat_weight)\n",
    "res1 = lin1 + lin2\n",
    "\n",
    "#res1 == res2\n",
    "input.transpose(0, 1)"
   ]
  },
  {
   "cell_type": "code",
   "execution_count": 50,
   "metadata": {},
   "outputs": [
    {
     "data": {
      "text/plain": [
       "\n",
       "(0 ,.,.) = \n",
       "  1  1\n",
       "  1  1\n",
       "  1  1\n",
       "  1  1\n",
       "  1  1\n",
       "\n",
       "(1 ,.,.) = \n",
       "  1  1\n",
       "  1  1\n",
       "  1  1\n",
       "  1  1\n",
       "  1  1\n",
       "[torch.FloatTensor of size 2x5x2]"
      ]
     },
     "execution_count": 50,
     "metadata": {},
     "output_type": "execute_result"
    }
   ],
   "source": [
    "output = [input, hidden]\n",
    "\n",
    "# 0 is column wise\n",
    "output = torch.cat(output, 0).view(input.size(1), *output[0].size())\n",
    "output"
   ]
  },
  {
   "cell_type": "code",
   "execution_count": 82,
   "metadata": {},
   "outputs": [],
   "source": [
    "import rnn\n",
    "import rnn_cells"
   ]
  },
  {
   "cell_type": "code",
   "execution_count": 83,
   "metadata": {},
   "outputs": [
    {
     "ename": "AttributeError",
     "evalue": "'torch.FloatTensor' object has no attribute 'uniform'",
     "output_type": "error",
     "traceback": [
      "\u001b[0;31m---------------------------------------------------------------------------\u001b[0m",
      "\u001b[0;31mAttributeError\u001b[0m                            Traceback (most recent call last)",
      "\u001b[0;32m<ipython-input-83-3a6e4f28172f>\u001b[0m in \u001b[0;36m<module>\u001b[0;34m()\u001b[0m\n\u001b[1;32m      1\u001b[0m \u001b[0minput_size\u001b[0m \u001b[0;34m=\u001b[0m \u001b[0;36m2\u001b[0m\u001b[0;34m\u001b[0m\u001b[0m\n\u001b[1;32m      2\u001b[0m \u001b[0mhidden_size\u001b[0m \u001b[0;34m=\u001b[0m \u001b[0;36m2\u001b[0m\u001b[0;34m\u001b[0m\u001b[0m\n\u001b[0;32m----> 3\u001b[0;31m \u001b[0mgru_cell\u001b[0m \u001b[0;34m=\u001b[0m \u001b[0mrnn_cells\u001b[0m\u001b[0;34m.\u001b[0m\u001b[0mGRUCell\u001b[0m\u001b[0;34m(\u001b[0m\u001b[0minput_size\u001b[0m\u001b[0;34m,\u001b[0m \u001b[0mhidden_size\u001b[0m\u001b[0;34m)\u001b[0m\u001b[0;34m\u001b[0m\u001b[0m\n\u001b[0m\u001b[1;32m      4\u001b[0m \u001b[0mgru\u001b[0m \u001b[0;34m=\u001b[0m \u001b[0mrnn\u001b[0m\u001b[0;34m.\u001b[0m\u001b[0mRNN\u001b[0m\u001b[0;34m(\u001b[0m\u001b[0minput_size\u001b[0m\u001b[0;34m,\u001b[0m \u001b[0mhidden_size\u001b[0m\u001b[0;34m,\u001b[0m \u001b[0mgru_cell\u001b[0m\u001b[0;34m)\u001b[0m\u001b[0;34m\u001b[0m\u001b[0m\n",
      "\u001b[0;32m~/dev/Web2/model/rnn_cells.py\u001b[0m in \u001b[0;36m__init__\u001b[0;34m(self, input_size, hidden_size, bias)\u001b[0m\n\u001b[1;32m    120\u001b[0m             \u001b[0mself\u001b[0m\u001b[0;34m.\u001b[0m\u001b[0mregister_parameter\u001b[0m\u001b[0;34m(\u001b[0m\u001b[0;34m'bias_hh'\u001b[0m\u001b[0;34m,\u001b[0m \u001b[0;32mNone\u001b[0m\u001b[0;34m)\u001b[0m\u001b[0;34m\u001b[0m\u001b[0m\n\u001b[1;32m    121\u001b[0m \u001b[0;34m\u001b[0m\u001b[0m\n\u001b[0;32m--> 122\u001b[0;31m         \u001b[0;31m#self.init_weights()\u001b[0m\u001b[0;34m\u001b[0m\u001b[0;34m\u001b[0m\u001b[0m\n\u001b[0m\u001b[1;32m    123\u001b[0m \u001b[0;34m\u001b[0m\u001b[0m\n\u001b[1;32m    124\u001b[0m     \u001b[0;32mdef\u001b[0m \u001b[0mforward\u001b[0m\u001b[0;34m(\u001b[0m\u001b[0mself\u001b[0m\u001b[0;34m,\u001b[0m \u001b[0minput\u001b[0m\u001b[0;34m,\u001b[0m \u001b[0mhidden\u001b[0m\u001b[0;34m)\u001b[0m\u001b[0;34m:\u001b[0m\u001b[0;34m\u001b[0m\u001b[0m\n",
      "\u001b[0;32m~/dev/Web2/model/rnn_cells.py\u001b[0m in \u001b[0;36minit_weights\u001b[0;34m(self)\u001b[0m\n\u001b[1;32m    134\u001b[0m         \u001b[0mstd\u001b[0m \u001b[0;34m=\u001b[0m \u001b[0;36m1.0\u001b[0m \u001b[0;34m/\u001b[0m \u001b[0mmath\u001b[0m\u001b[0;34m.\u001b[0m\u001b[0msqrt\u001b[0m\u001b[0;34m(\u001b[0m\u001b[0mself\u001b[0m\u001b[0;34m.\u001b[0m\u001b[0mhidden_size\u001b[0m\u001b[0;34m)\u001b[0m\u001b[0;34m\u001b[0m\u001b[0m\n\u001b[1;32m    135\u001b[0m         \u001b[0;32mfor\u001b[0m \u001b[0mweight\u001b[0m \u001b[0;32min\u001b[0m \u001b[0mself\u001b[0m\u001b[0;34m.\u001b[0m\u001b[0mparameters\u001b[0m\u001b[0;34m(\u001b[0m\u001b[0;34m)\u001b[0m\u001b[0;34m:\u001b[0m\u001b[0;34m\u001b[0m\u001b[0m\n\u001b[0;32m--> 136\u001b[0;31m             \u001b[0mweight\u001b[0m\u001b[0;34m.\u001b[0m\u001b[0mdata\u001b[0m\u001b[0;34m.\u001b[0m\u001b[0muniform_\u001b[0m\u001b[0;34m(\u001b[0m\u001b[0;34m-\u001b[0m\u001b[0mstd\u001b[0m\u001b[0;34m,\u001b[0m \u001b[0mstd\u001b[0m\u001b[0;34m)\u001b[0m\u001b[0;34m\u001b[0m\u001b[0m\n\u001b[0m",
      "\u001b[0;31mAttributeError\u001b[0m: 'torch.FloatTensor' object has no attribute 'uniform'"
     ]
    }
   ],
   "source": [
    "input_size = 2\n",
    "hidden_size = 2\n",
    "gru_cell = rnn_cells.GRUCell(input_size, hidden_size)\n",
    "gru = rnn.RNN(input_size, hidden_size, gru_cell)"
   ]
  },
  {
   "cell_type": "code",
   "execution_count": 70,
   "metadata": {},
   "outputs": [
    {
     "data": {
      "text/plain": [
       "\n",
       "-0.9608\n",
       " 0.6994\n",
       "-0.4091\n",
       "-0.9141\n",
       "-0.5123\n",
       "[torch.FloatTensor of size 5]"
      ]
     },
     "execution_count": 70,
     "metadata": {},
     "output_type": "execute_result"
    }
   ],
   "source": [
    "Parameter(torch.Tensor(5)).data.uniform_(-1, 1)"
   ]
  },
  {
   "cell_type": "code",
   "execution_count": null,
   "metadata": {},
   "outputs": [],
   "source": []
  }
 ],
 "metadata": {
  "kernelspec": {
   "display_name": "Python (deep_learn)",
   "language": "python",
   "name": "deep_learn"
  },
  "language_info": {
   "codemirror_mode": {
    "name": "ipython",
    "version": 3
   },
   "file_extension": ".py",
   "mimetype": "text/x-python",
   "name": "python",
   "nbconvert_exporter": "python",
   "pygments_lexer": "ipython3",
   "version": "3.6.3"
  },
  "toc": {
   "nav_menu": {},
   "number_sections": true,
   "sideBar": true,
   "skip_h1_title": false,
   "toc_cell": false,
   "toc_position": {},
   "toc_section_display": "block",
   "toc_window_display": false
  }
 },
 "nbformat": 4,
 "nbformat_minor": 2
}
