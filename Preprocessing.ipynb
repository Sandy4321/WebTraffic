{
 "cells": [
  {
   "cell_type": "markdown",
   "metadata": {},
   "source": [
    "# Imports"
   ]
  },
  {
   "cell_type": "code",
   "execution_count": 1,
   "metadata": {
    "collapsed": true
   },
   "outputs": [],
   "source": [
    "import pandas as pd\n",
    "import numpy as np\n",
    "import matplotlib\n",
    "import matplotlib.pyplot as plt\n",
    "%matplotlib inline\n",
    "\n",
    "import re\n",
    "import os\n",
    "import pickle"
   ]
  },
  {
   "cell_type": "markdown",
   "metadata": {},
   "source": [
    "# Data reading and cleaning"
   ]
  },
  {
   "cell_type": "code",
   "execution_count": 3,
   "metadata": {
    "collapsed": true
   },
   "outputs": [],
   "source": [
    "DATA_DIR = 'data'\n",
    "FILE_NAME = 'train_1'\n",
    "CSV_PATH = os.path.join(DATA_DIR, FILE_NAME + '.csv')\n",
    "PKL_PATH = os.path.join(DATA_DIR, FILE_NAME + '.pkl')\n",
    "\n",
    "def load_data() -> pd.DataFrame:\n",
    "    '''\n",
    "    Loads data from path. If there is a cached version loads it instead.\n",
    "    '''\n",
    "    if os.path.exists(PKL_PATH):\n",
    "        print('Loading pickle...')\n",
    "        df = pd.read_pickle(PKL_PATH)\n",
    "        print('Done!')\n",
    "        return df\n",
    "    else:\n",
    "        print('Loading csv...')\n",
    "        df = pd.read_csv(CSV_PATH)\n",
    "        df.to_pickle(PKL_PATH)\n",
    "        print('Done!')\n",
    "        return df"
   ]
  },
  {
   "cell_type": "code",
   "execution_count": 4,
   "metadata": {
    "collapsed": true
   },
   "outputs": [],
   "source": [
    "def read_all() -> pd.DataFrame:\n",
    "    '''\n",
    "    Loads data, sets index for the df and makes columns a date type.\n",
    "    Also pickles for speed increase\n",
    "    '''\n",
    "    \n",
    "    treated_pkl = os.path.join(DATA_DIR, 'treated.pkl')\n",
    "    if os.path.exists(treated_pkl):\n",
    "        df = pd.read_pickle(treated_pkl)\n",
    "    else:\n",
    "        df = load_data()\n",
    "        df.set_index('Page', inplace=True)\n",
    "        df.sort_index(inplace=True)\n",
    "        df.columns = df.columns.astype('M8[D]')\n",
    "        print('Pickling treated data...')\n",
    "        df.to_pickle(treated_pkl)\n",
    "        print('Done!')\n",
    "    return df"
   ]
  },
  {
   "cell_type": "code",
   "execution_count": 5,
   "metadata": {
    "collapsed": true
   },
   "outputs": [],
   "source": [
    "def read_interval(start, end) -> pd.DataFrame:\n",
    "    '''\n",
    "    Returns dataframe within specified values: ts[start:end]\n",
    "    '''\n",
    "    df = read_all()\n",
    "    if start and end:\n",
    "        return df.loc[:, start:end]\n",
    "    elif end:\n",
    "        return df.loc[:, :end]\n",
    "    else:\n",
    "        return df"
   ]
  },
  {
   "cell_type": "code",
   "execution_count": 6,
   "metadata": {
    "collapsed": false
   },
   "outputs": [],
   "source": [
    "df = read_interval(None, None)"
   ]
  },
  {
   "cell_type": "code",
   "execution_count": 7,
   "metadata": {
    "collapsed": false
   },
   "outputs": [
    {
     "data": {
      "text/html": [
       "<div>\n",
       "<table border=\"1\" class=\"dataframe\">\n",
       "  <thead>\n",
       "    <tr style=\"text-align: right;\">\n",
       "      <th></th>\n",
       "      <th>2015-07-01 00:00:00</th>\n",
       "      <th>2015-07-02 00:00:00</th>\n",
       "      <th>2015-07-03 00:00:00</th>\n",
       "      <th>2015-07-04 00:00:00</th>\n",
       "      <th>2015-07-05 00:00:00</th>\n",
       "      <th>2015-07-06 00:00:00</th>\n",
       "      <th>2015-07-07 00:00:00</th>\n",
       "      <th>2015-07-08 00:00:00</th>\n",
       "      <th>2015-07-09 00:00:00</th>\n",
       "      <th>2015-07-10 00:00:00</th>\n",
       "      <th>...</th>\n",
       "      <th>2016-12-22 00:00:00</th>\n",
       "      <th>2016-12-23 00:00:00</th>\n",
       "      <th>2016-12-24 00:00:00</th>\n",
       "      <th>2016-12-25 00:00:00</th>\n",
       "      <th>2016-12-26 00:00:00</th>\n",
       "      <th>2016-12-27 00:00:00</th>\n",
       "      <th>2016-12-28 00:00:00</th>\n",
       "      <th>2016-12-29 00:00:00</th>\n",
       "      <th>2016-12-30 00:00:00</th>\n",
       "      <th>2016-12-31 00:00:00</th>\n",
       "    </tr>\n",
       "    <tr>\n",
       "      <th>Page</th>\n",
       "      <th></th>\n",
       "      <th></th>\n",
       "      <th></th>\n",
       "      <th></th>\n",
       "      <th></th>\n",
       "      <th></th>\n",
       "      <th></th>\n",
       "      <th></th>\n",
       "      <th></th>\n",
       "      <th></th>\n",
       "      <th></th>\n",
       "      <th></th>\n",
       "      <th></th>\n",
       "      <th></th>\n",
       "      <th></th>\n",
       "      <th></th>\n",
       "      <th></th>\n",
       "      <th></th>\n",
       "      <th></th>\n",
       "      <th></th>\n",
       "      <th></th>\n",
       "    </tr>\n",
       "  </thead>\n",
       "  <tbody>\n",
       "    <tr>\n",
       "      <th>!vote_en.wikipedia.org_all-access_all-agents</th>\n",
       "      <td>3.0</td>\n",
       "      <td>4.0</td>\n",
       "      <td>7.0</td>\n",
       "      <td>4.0</td>\n",
       "      <td>4.0</td>\n",
       "      <td>2.0</td>\n",
       "      <td>3.0</td>\n",
       "      <td>7.0</td>\n",
       "      <td>2.0</td>\n",
       "      <td>NaN</td>\n",
       "      <td>...</td>\n",
       "      <td>3.0</td>\n",
       "      <td>1.0</td>\n",
       "      <td>6.0</td>\n",
       "      <td>3.0</td>\n",
       "      <td>1.0</td>\n",
       "      <td>1.0</td>\n",
       "      <td>4.0</td>\n",
       "      <td>3.0</td>\n",
       "      <td>1.0</td>\n",
       "      <td>1.0</td>\n",
       "    </tr>\n",
       "    <tr>\n",
       "      <th>!vote_en.wikipedia.org_all-access_spider</th>\n",
       "      <td>0.0</td>\n",
       "      <td>0.0</td>\n",
       "      <td>1.0</td>\n",
       "      <td>2.0</td>\n",
       "      <td>0.0</td>\n",
       "      <td>1.0</td>\n",
       "      <td>0.0</td>\n",
       "      <td>0.0</td>\n",
       "      <td>2.0</td>\n",
       "      <td>NaN</td>\n",
       "      <td>...</td>\n",
       "      <td>2.0</td>\n",
       "      <td>0.0</td>\n",
       "      <td>2.0</td>\n",
       "      <td>2.0</td>\n",
       "      <td>0.0</td>\n",
       "      <td>0.0</td>\n",
       "      <td>1.0</td>\n",
       "      <td>1.0</td>\n",
       "      <td>1.0</td>\n",
       "      <td>0.0</td>\n",
       "    </tr>\n",
       "    <tr>\n",
       "      <th>!vote_en.wikipedia.org_desktop_all-agents</th>\n",
       "      <td>3.0</td>\n",
       "      <td>4.0</td>\n",
       "      <td>7.0</td>\n",
       "      <td>4.0</td>\n",
       "      <td>4.0</td>\n",
       "      <td>2.0</td>\n",
       "      <td>3.0</td>\n",
       "      <td>7.0</td>\n",
       "      <td>2.0</td>\n",
       "      <td>NaN</td>\n",
       "      <td>...</td>\n",
       "      <td>3.0</td>\n",
       "      <td>1.0</td>\n",
       "      <td>6.0</td>\n",
       "      <td>3.0</td>\n",
       "      <td>1.0</td>\n",
       "      <td>1.0</td>\n",
       "      <td>3.0</td>\n",
       "      <td>3.0</td>\n",
       "      <td>1.0</td>\n",
       "      <td>0.0</td>\n",
       "    </tr>\n",
       "    <tr>\n",
       "      <th>\"Awaken,_My_Love!\"_en.wikipedia.org_all-access_all-agents</th>\n",
       "      <td>NaN</td>\n",
       "      <td>NaN</td>\n",
       "      <td>NaN</td>\n",
       "      <td>NaN</td>\n",
       "      <td>NaN</td>\n",
       "      <td>NaN</td>\n",
       "      <td>NaN</td>\n",
       "      <td>NaN</td>\n",
       "      <td>NaN</td>\n",
       "      <td>NaN</td>\n",
       "      <td>...</td>\n",
       "      <td>4923.0</td>\n",
       "      <td>5074.0</td>\n",
       "      <td>4149.0</td>\n",
       "      <td>4209.0</td>\n",
       "      <td>3783.0</td>\n",
       "      <td>3994.0</td>\n",
       "      <td>3910.0</td>\n",
       "      <td>4006.0</td>\n",
       "      <td>3841.0</td>\n",
       "      <td>3517.0</td>\n",
       "    </tr>\n",
       "    <tr>\n",
       "      <th>\"Awaken,_My_Love!\"_en.wikipedia.org_all-access_spider</th>\n",
       "      <td>NaN</td>\n",
       "      <td>NaN</td>\n",
       "      <td>NaN</td>\n",
       "      <td>NaN</td>\n",
       "      <td>NaN</td>\n",
       "      <td>NaN</td>\n",
       "      <td>NaN</td>\n",
       "      <td>NaN</td>\n",
       "      <td>NaN</td>\n",
       "      <td>NaN</td>\n",
       "      <td>...</td>\n",
       "      <td>89.0</td>\n",
       "      <td>12.0</td>\n",
       "      <td>63.0</td>\n",
       "      <td>15.0</td>\n",
       "      <td>38.0</td>\n",
       "      <td>14.0</td>\n",
       "      <td>59.0</td>\n",
       "      <td>40.0</td>\n",
       "      <td>35.0</td>\n",
       "      <td>45.0</td>\n",
       "    </tr>\n",
       "  </tbody>\n",
       "</table>\n",
       "<p>5 rows × 550 columns</p>\n",
       "</div>"
      ],
      "text/plain": [
       "                                                    2015-07-01  2015-07-02  \\\n",
       "Page                                                                         \n",
       "!vote_en.wikipedia.org_all-access_all-agents               3.0         4.0   \n",
       "!vote_en.wikipedia.org_all-access_spider                   0.0         0.0   \n",
       "!vote_en.wikipedia.org_desktop_all-agents                  3.0         4.0   \n",
       "\"Awaken,_My_Love!\"_en.wikipedia.org_all-access_...         NaN         NaN   \n",
       "\"Awaken,_My_Love!\"_en.wikipedia.org_all-access_...         NaN         NaN   \n",
       "\n",
       "                                                    2015-07-03  2015-07-04  \\\n",
       "Page                                                                         \n",
       "!vote_en.wikipedia.org_all-access_all-agents               7.0         4.0   \n",
       "!vote_en.wikipedia.org_all-access_spider                   1.0         2.0   \n",
       "!vote_en.wikipedia.org_desktop_all-agents                  7.0         4.0   \n",
       "\"Awaken,_My_Love!\"_en.wikipedia.org_all-access_...         NaN         NaN   \n",
       "\"Awaken,_My_Love!\"_en.wikipedia.org_all-access_...         NaN         NaN   \n",
       "\n",
       "                                                    2015-07-05  2015-07-06  \\\n",
       "Page                                                                         \n",
       "!vote_en.wikipedia.org_all-access_all-agents               4.0         2.0   \n",
       "!vote_en.wikipedia.org_all-access_spider                   0.0         1.0   \n",
       "!vote_en.wikipedia.org_desktop_all-agents                  4.0         2.0   \n",
       "\"Awaken,_My_Love!\"_en.wikipedia.org_all-access_...         NaN         NaN   \n",
       "\"Awaken,_My_Love!\"_en.wikipedia.org_all-access_...         NaN         NaN   \n",
       "\n",
       "                                                    2015-07-07  2015-07-08  \\\n",
       "Page                                                                         \n",
       "!vote_en.wikipedia.org_all-access_all-agents               3.0         7.0   \n",
       "!vote_en.wikipedia.org_all-access_spider                   0.0         0.0   \n",
       "!vote_en.wikipedia.org_desktop_all-agents                  3.0         7.0   \n",
       "\"Awaken,_My_Love!\"_en.wikipedia.org_all-access_...         NaN         NaN   \n",
       "\"Awaken,_My_Love!\"_en.wikipedia.org_all-access_...         NaN         NaN   \n",
       "\n",
       "                                                    2015-07-09  2015-07-10  \\\n",
       "Page                                                                         \n",
       "!vote_en.wikipedia.org_all-access_all-agents               2.0         NaN   \n",
       "!vote_en.wikipedia.org_all-access_spider                   2.0         NaN   \n",
       "!vote_en.wikipedia.org_desktop_all-agents                  2.0         NaN   \n",
       "\"Awaken,_My_Love!\"_en.wikipedia.org_all-access_...         NaN         NaN   \n",
       "\"Awaken,_My_Love!\"_en.wikipedia.org_all-access_...         NaN         NaN   \n",
       "\n",
       "                                                       ...      2016-12-22  \\\n",
       "Page                                                   ...                   \n",
       "!vote_en.wikipedia.org_all-access_all-agents           ...             3.0   \n",
       "!vote_en.wikipedia.org_all-access_spider               ...             2.0   \n",
       "!vote_en.wikipedia.org_desktop_all-agents              ...             3.0   \n",
       "\"Awaken,_My_Love!\"_en.wikipedia.org_all-access_...     ...          4923.0   \n",
       "\"Awaken,_My_Love!\"_en.wikipedia.org_all-access_...     ...            89.0   \n",
       "\n",
       "                                                    2016-12-23  2016-12-24  \\\n",
       "Page                                                                         \n",
       "!vote_en.wikipedia.org_all-access_all-agents               1.0         6.0   \n",
       "!vote_en.wikipedia.org_all-access_spider                   0.0         2.0   \n",
       "!vote_en.wikipedia.org_desktop_all-agents                  1.0         6.0   \n",
       "\"Awaken,_My_Love!\"_en.wikipedia.org_all-access_...      5074.0      4149.0   \n",
       "\"Awaken,_My_Love!\"_en.wikipedia.org_all-access_...        12.0        63.0   \n",
       "\n",
       "                                                    2016-12-25  2016-12-26  \\\n",
       "Page                                                                         \n",
       "!vote_en.wikipedia.org_all-access_all-agents               3.0         1.0   \n",
       "!vote_en.wikipedia.org_all-access_spider                   2.0         0.0   \n",
       "!vote_en.wikipedia.org_desktop_all-agents                  3.0         1.0   \n",
       "\"Awaken,_My_Love!\"_en.wikipedia.org_all-access_...      4209.0      3783.0   \n",
       "\"Awaken,_My_Love!\"_en.wikipedia.org_all-access_...        15.0        38.0   \n",
       "\n",
       "                                                    2016-12-27  2016-12-28  \\\n",
       "Page                                                                         \n",
       "!vote_en.wikipedia.org_all-access_all-agents               1.0         4.0   \n",
       "!vote_en.wikipedia.org_all-access_spider                   0.0         1.0   \n",
       "!vote_en.wikipedia.org_desktop_all-agents                  1.0         3.0   \n",
       "\"Awaken,_My_Love!\"_en.wikipedia.org_all-access_...      3994.0      3910.0   \n",
       "\"Awaken,_My_Love!\"_en.wikipedia.org_all-access_...        14.0        59.0   \n",
       "\n",
       "                                                    2016-12-29  2016-12-30  \\\n",
       "Page                                                                         \n",
       "!vote_en.wikipedia.org_all-access_all-agents               3.0         1.0   \n",
       "!vote_en.wikipedia.org_all-access_spider                   1.0         1.0   \n",
       "!vote_en.wikipedia.org_desktop_all-agents                  3.0         1.0   \n",
       "\"Awaken,_My_Love!\"_en.wikipedia.org_all-access_...      4006.0      3841.0   \n",
       "\"Awaken,_My_Love!\"_en.wikipedia.org_all-access_...        40.0        35.0   \n",
       "\n",
       "                                                    2016-12-31  \n",
       "Page                                                            \n",
       "!vote_en.wikipedia.org_all-access_all-agents               1.0  \n",
       "!vote_en.wikipedia.org_all-access_spider                   0.0  \n",
       "!vote_en.wikipedia.org_desktop_all-agents                  0.0  \n",
       "\"Awaken,_My_Love!\"_en.wikipedia.org_all-access_...      3517.0  \n",
       "\"Awaken,_My_Love!\"_en.wikipedia.org_all-access_...        45.0  \n",
       "\n",
       "[5 rows x 550 columns]"
      ]
     },
     "execution_count": 7,
     "metadata": {},
     "output_type": "execute_result"
    }
   ],
   "source": [
    "df.head()"
   ]
  },
  {
   "cell_type": "code",
   "execution_count": 8,
   "metadata": {
    "collapsed": false
   },
   "outputs": [
    {
     "data": {
      "text/plain": [
       "(145063, 550)"
      ]
     },
     "execution_count": 8,
     "metadata": {},
     "output_type": "execute_result"
    }
   ],
   "source": [
    "df.shape"
   ]
  },
  {
   "cell_type": "markdown",
   "metadata": {},
   "source": [
    "16 mins with dataframe access <br>\n",
    "6 segs with numpy arrays <br>\n",
    "289ms with numba <br>"
   ]
  },
  {
   "cell_type": "code",
   "execution_count": 9,
   "metadata": {
    "collapsed": false
   },
   "outputs": [
    {
     "name": "stdout",
     "output_type": "stream",
     "text": [
      "CPU times: user 587 ms, sys: 37.3 ms, total: 624 ms\n",
      "Wall time: 3.65 s\n"
     ]
    }
   ],
   "source": [
    "%%time\n",
    "import time\n",
    "import numba\n",
    "\n",
    "@numba.jit(nopython=True)\n",
    "def calculate_start_end(data: np.ndarray):\n",
    "    '''\n",
    "    Calculates start and end of series.\n",
    "    Start = first non nan value\n",
    "    End = last non nan value\n",
    "    '''\n",
    "    rows, columns = data.shape[0], data.shape[1]\n",
    "    \n",
    "    # array where idx will be stored. if none is found, defaults to -1\n",
    "    start_idx = np.full(rows, -1, dtype=np.int32)\n",
    "    end_idx = np.full(rows, -1, dtype=np.int32)\n",
    "    \n",
    "    for page in range(rows):\n",
    "        #start idx\n",
    "        for day in range(columns):\n",
    "            # if nan 1, get index for 1\n",
    "            if not np.isnan(data[page, day]) and data[page, day] > 0:\n",
    "                start_idx[page] = day\n",
    "                break\n",
    "        for day in range(columns -1, -1, -1):\n",
    "            if not np.isnan(data[page, day]) and data[page, day] > 0:\n",
    "                end_idx[page] = day\n",
    "                break\n",
    "        \n",
    "    return start_idx, end_idx\n",
    "\n",
    "start, end = calculate_start_end(df.values)\n",
    "\n"
   ]
  },
  {
   "cell_type": "code",
   "execution_count": 10,
   "metadata": {
    "collapsed": true
   },
   "outputs": [],
   "source": [
    "def clean_data(threshold, start=None, end=None):\n",
    "    '''\n",
    "    Loads data, setting Page as index, and columns as datetime dtypes.\n",
    "    Removes series that don't comply to minimum threshold of nan to value ratio\n",
    "    Returns normalized series (log1p), indexes of previously nan values, start and end indexes\n",
    "    '''\n",
    "    df = read_interval(start, end)\n",
    "    start, end = calculate_start_end(df.values)\n",
    "    bool_mask = ~(((end - start) / df.shape[1]) < threshold)\n",
    "    df = df[bool_mask]\n",
    "    \n",
    "    nan_values = pd.isnull(df)\n",
    "    return np.log1p(df.fillna(0)), nan_values, start, end"
   ]
  },
  {
   "cell_type": "code",
   "execution_count": 86,
   "metadata": {
    "collapsed": true
   },
   "outputs": [],
   "source": [
    "df, nans, starts, ends = clean_data(0.3)"
   ]
  },
  {
   "cell_type": "markdown",
   "metadata": {},
   "source": [
    "# Date Range Preprocessing"
   ]
  },
  {
   "cell_type": "code",
   "execution_count": 20,
   "metadata": {
    "collapsed": false
   },
   "outputs": [],
   "source": [
    "start_date, end_date = df.columns[0], df.columns[-1]"
   ]
  },
  {
   "cell_type": "code",
   "execution_count": 21,
   "metadata": {
    "collapsed": false
   },
   "outputs": [
    {
     "data": {
      "text/plain": [
       "(Timestamp('2016-12-31 00:00:00'), Timestamp('2017-03-01 00:00:00'))"
      ]
     },
     "execution_count": 21,
     "metadata": {},
     "output_type": "execute_result"
    }
   ],
   "source": [
    "forecast_days = 60\n",
    "prediction_window = end_date + pd.Timedelta(forecast_days, unit='D')\n",
    "end_date, prediction_window"
   ]
  },
  {
   "cell_type": "markdown",
   "metadata": {},
   "source": [
    "# Autocorrelation"
   ]
  },
  {
   "cell_type": "markdown",
   "metadata": {},
   "source": [
    "$r^{k} = \\frac{\\sum_{i=1}^{N-k}(Y_{i} - \\bar{Y})(Y_{i+k} - \\bar{Y})}{\\sum_{i=1}^{N}(Y_{i} - \\bar{Y})^{2}}$"
   ]
  },
  {
   "cell_type": "code",
   "execution_count": 97,
   "metadata": {
    "collapsed": false
   },
   "outputs": [],
   "source": [
    "@numba.jit(nopython=True)\n",
    "def autocorrelation(series: np.ndarray, days):\n",
    "    '''\n",
    "    Calculates autocorrelation for series according to Box Jenkins\n",
    "    '''\n",
    "    ts = series[days:]\n",
    "    ts_lag = series[:-days]\n",
    "    dts = ts - np.mean(ts)\n",
    "   \n",
    "    dts_lag = ts_lag - np.mean(ts_lag)\n",
    "    \n",
    "    \n",
    "    #denominator = np.sum(np.square(dts))\n",
    "    denominator = np.sqrt(np.sum(dts * dts)) + np.sqrt(np.sum(dts_lag * dts_lag))\n",
    "    nominator = np.sum(dts * dts_lag)\n",
    "    if denominator == 0 or np.isnan(denominator):\n",
    "        autocorr = 0\n",
    "    else:\n",
    "        autocorr = nominator / denominator\n",
    "    return autocorr\n",
    "\n"
   ]
  },
  {
   "cell_type": "markdown",
   "metadata": {},
   "source": [
    "170 ns to 110 ns "
   ]
  },
  {
   "cell_type": "code",
   "execution_count": 98,
   "metadata": {
    "collapsed": false,
    "scrolled": true
   },
   "outputs": [
    {
     "name": "stdout",
     "output_type": "stream",
     "text": [
      "The slowest run took 3743.93 times longer than the fastest. This could mean that an intermediate result is being cached.\n",
      "1 loop, best of 3: 126 µs per loop\n"
     ]
    }
   ],
   "source": [
    "%%timeit\n",
    "autocorrelation(df.iloc[0].values, 365)\n"
   ]
  },
  {
   "cell_type": "code",
   "execution_count": 115,
   "metadata": {
    "collapsed": false
   },
   "outputs": [
    {
     "data": {
      "text/plain": [
       "752"
      ]
     },
     "execution_count": 115,
     "metadata": {},
     "output_type": "execute_result"
    }
   ],
   "source": [
    "np.sum(ends == -1)"
   ]
  },
  {
   "cell_type": "code",
   "execution_count": 127,
   "metadata": {
    "collapsed": true
   },
   "outputs": [],
   "source": [
    "@numba.jit(nopython=True)\n",
    "def batch_autocorrelation(tseries, lag, starts, ends, threshold):\n",
    "    '''\n",
    "    Calculates autocorrelation for lots of series.\n",
    "    Checks if we are calculating a meaningful result for autocorrelation\n",
    "    If the length of the series is less than the threshold (len/lag),\n",
    "    autocorrelation is none.\n",
    "    '''\n",
    "    rows, columns = tseries.shape[0], tseries.shape[1]\n",
    "    corr = np.full(rows, np.nan, dtype=np.float64)\n",
    "    \n",
    "    for i in range(rows):\n",
    "        # check if series complies to threshold\n",
    "        start = starts[i]\n",
    "        end = min(ends[i], columns)\n",
    "        ratio = (end - start) / lag\n",
    "        if ratio > threshold:\n",
    "            # calculate autocorrelation\n",
    "            entry = tseries[i]\n",
    "            corr[i] = autocorrelation(entry[start:end], lag)\n",
    "        else:\n",
    "            # autocorr is nan\n",
    "            continue\n",
    "            \n",
    "    return corr"
   ]
  },
  {
   "cell_type": "code",
   "execution_count": 152,
   "metadata": {
    "collapsed": false
   },
   "outputs": [
    {
     "data": {
      "text/plain": [
       "0.84636133986041928"
      ]
     },
     "execution_count": 152,
     "metadata": {},
     "output_type": "execute_result"
    }
   ],
   "source": [
    "corr = batch_autocorrelation(df.values, 365, starts, ends, 1.5)\n",
    "(corr.shape[0] - np.sum(np.isnan(corr)) ) / corr.shape[0]"
   ]
  },
  {
   "cell_type": "code",
   "execution_count": 147,
   "metadata": {
    "collapsed": false
   },
   "outputs": [],
   "source": [
    "def standard_scale(arr: np.ndarray):\n",
    "    '''\n",
    "    Normalize data (x - mean)/std\n",
    "    '''\n",
    "    return (arr - arr.mean()) / np.std(arr)"
   ]
  },
  {
   "cell_type": "code",
   "execution_count": 166,
   "metadata": {
    "collapsed": false
   },
   "outputs": [],
   "source": [
    "def get_autocorr(tseries: np.ndarray, lags: list, starts, ends, threshold, normalize=True):\n",
    "    '''\n",
    "    Gets all autocorrelations for each specified lag.\n",
    "    '''\n",
    "    \n",
    "    corr = [batch_autocorrelation(tseries, lag, starts, ends, threshold)\n",
    "           for lag in lags]\n",
    "        \n",
    "    for i in range(len(lags)):\n",
    "        ratio = (corr[i].shape[0] - np.sum(np.isnan(corr[i])) ) / corr[i].shape[0]\n",
    "        nan_percent = 1 - ratio\n",
    "        print(\"For lag: %i nan percent is %.3f\" % (lags[i], nan_percent))\n",
    "        \n",
    "    if normalize:\n",
    "        corr = [standard_scale(np.nan_to_num(batch)) for batch in corr]\n",
    "    \n",
    "    return corr\n",
    "    "
   ]
  },
  {
   "cell_type": "code",
   "execution_count": 167,
   "metadata": {
    "collapsed": false
   },
   "outputs": [
    {
     "name": "stdout",
     "output_type": "stream",
     "text": [
      "For lag: 91 nan percent is 0.029\n",
      "For lag: 365 nan percent is 0.154\n"
     ]
    },
    {
     "data": {
      "text/plain": [
       "[array([-0.35653493, -0.29128775, -0.29947322, ..., -0.00597079,\n",
       "        -0.33125713, -0.32009653]),\n",
       " array([-0.15618991, -0.35558243, -0.13367393, ..., -0.26995498,\n",
       "        -0.49244841, -0.50215723])]"
      ]
     },
     "execution_count": 167,
     "metadata": {},
     "output_type": "execute_result"
    }
   ],
   "source": [
    "lags = [int(round(365/4)), 365] #yearly and quarterly\n",
    "get_autocorr(df.values, lags, starts, ends, 1.5, normalize=True)"
   ]
  },
  {
   "cell_type": "markdown",
   "metadata": {},
   "source": [
    "# Extracting features from URL"
   ]
  },
  {
   "cell_type": "code",
   "execution_count": null,
   "metadata": {
    "collapsed": true
   },
   "outputs": [],
   "source": [
    "pat = re.compile(\n",
    "    '(.+)_([a-z]{2}\\.)?((?:wikipedia\\.org)|(?:commons\\.wikimedia\\.org)|(?:www\\.wikimedia\\.org)|(?:www\\.mediawiki\\.org))_([a-z-]+?)_([a-z-]+)$'\n",
    ")\n",
    "\n",
    "def extract_from_url(urls):\n",
    "    '''\n",
    "    receives pandas dataframe column or series\n",
    "    returns a pandas dataframe with all the extracted features\n",
    "    '''\n",
    "    \n",
    "    if isinstance(urls, pd.Series):\n",
    "         urls = urls.values\n",
    "    \n",
    "    accesses = np.full_like(urls, np.NaN)\n",
    "    agents = np.full_like(urls, np.NaN)\n",
    "    sites = np.full_like(urls, np.NaN)\n",
    "    countries = np.full_like(urls, np.NaN)\n",
    "    titles = np.full_like(urls, np.nan)\n",
    "    \n",
    "    for i in range(len(urls)):\n",
    "        url = urls[i]\n",
    "        match = pat.fullmatch(url)\n",
    "        assert match, \"regex pattern matching failed %s\" % url\n",
    "        \n",
    "        titles[i] = match.group(1)\n",
    "        \n",
    "        country = match.group(2)\n",
    "        if country:\n",
    "            countries[i] = country[:-1]\n",
    "        else:\n",
    "            countries[i] = 'na'\n",
    "            \n",
    "        sites[i] = match.group(3)\n",
    "        \n",
    "        agents[i] = match.group(4)\n",
    "        accesses[i] = match.group(5)\n",
    "        \n",
    "    return pd.DataFrame({\n",
    "        'page': urls,\n",
    "        'title': titles,\n",
    "        'agent': agents,\n",
    "        'access': accesses,\n",
    "        'site': sites,\n",
    "        'country': countries,\n",
    "    })"
   ]
  }
 ],
 "metadata": {
  "kernelspec": {
   "display_name": "Python 3",
   "language": "python",
   "name": "python3"
  },
  "language_info": {
   "codemirror_mode": {
    "name": "ipython",
    "version": 3
   },
   "file_extension": ".py",
   "mimetype": "text/x-python",
   "name": "python",
   "nbconvert_exporter": "python",
   "pygments_lexer": "ipython3",
   "version": "3.6.0"
  },
  "toc": {
   "nav_menu": {},
   "number_sections": true,
   "sideBar": true,
   "skip_h1_title": false,
   "toc_cell": false,
   "toc_position": {},
   "toc_section_display": "block",
   "toc_window_display": true
  }
 },
 "nbformat": 4,
 "nbformat_minor": 2
}
