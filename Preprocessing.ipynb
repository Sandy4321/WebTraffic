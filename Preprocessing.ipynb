{
 "cells": [
  {
   "cell_type": "markdown",
   "metadata": {},
   "source": [
    "# Imports"
   ]
  },
  {
   "cell_type": "code",
   "execution_count": 3,
   "metadata": {
    "collapsed": true
   },
   "outputs": [],
   "source": [
    "import pandas as pd\n",
    "import numpy as np\n",
    "import matplotlib\n",
    "import matplotlib.pyplot as plt\n",
    "%matplotlib inline\n",
    "\n",
    "import re\n",
    "import os\n",
    "import pickle"
   ]
  },
  {
   "cell_type": "markdown",
   "metadata": {},
   "source": [
    "# Data reading and cleaning"
   ]
  },
  {
   "cell_type": "code",
   "execution_count": 31,
   "metadata": {
    "collapsed": true
   },
   "outputs": [],
   "source": [
    "DATA_DIR = 'data'\n",
    "FILE_NAME = 'train_1'\n",
    "CSV_PATH = os.path.join(DATA_DIR, FILE_NAME + '.csv')\n",
    "PKL_PATH = os.path.join(DATA_DIR, FILE_NAME + '.pkl')\n",
    "\n",
    "def load_data() -> pd.DataFrame:\n",
    "    '''\n",
    "    Loads data from path. If there is a cached version loads it instead.\n",
    "    '''\n",
    "    if os.path.exists(PKL_PATH):\n",
    "        print('Loading pickle...')\n",
    "        df = pd.read_pickle(PKL_PATH)\n",
    "        print('Done!')\n",
    "        return df\n",
    "    else:\n",
    "        print('Loading csv...')\n",
    "        df = pd.read_csv(CSV_PATH)\n",
    "        df.to_pickle(PKL_PATH)\n",
    "        print('Done!')\n",
    "        return df"
   ]
  },
  {
   "cell_type": "code",
   "execution_count": 32,
   "metadata": {
    "collapsed": true
   },
   "outputs": [],
   "source": [
    "def read_all() -> pd.DataFrame:\n",
    "    '''\n",
    "    Loads data, sets index for the df and makes columns a date type.\n",
    "    Also pickles for speed increase\n",
    "    '''\n",
    "    \n",
    "    treated_pkl = os.path.join(DATA_DIR, 'treated.pkl')\n",
    "    if os.path.exists(treated_pkl):\n",
    "        df = pd.read_pickle(treated_pkl)\n",
    "    else:\n",
    "        df = load_data()\n",
    "        df.set_index('Page', inplace=True)\n",
    "        df.sort_index(inplace=True)\n",
    "        df.columns = df.columns.astype('M8[D]')\n",
    "        print('Pickling treated data...')\n",
    "        df.to_pickle(treated_pkl)\n",
    "        print('Done!')\n",
    "    return df"
   ]
  },
  {
   "cell_type": "code",
   "execution_count": 33,
   "metadata": {
    "collapsed": true
   },
   "outputs": [],
   "source": [
    "def read_interval(start, end) -> pd.DataFrame:\n",
    "    '''\n",
    "    Returns dataframe within specified values: ts[start:end]\n",
    "    '''\n",
    "    df = read_all()\n",
    "    if start and end:\n",
    "        return df.loc[:, start:end]\n",
    "    elif end:\n",
    "        return df.loc[:, :end]\n",
    "    else:\n",
    "        return df"
   ]
  },
  {
   "cell_type": "code",
   "execution_count": 34,
   "metadata": {
    "collapsed": false
   },
   "outputs": [
    {
     "name": "stdout",
     "output_type": "stream",
     "text": [
      "Loading csv...\n",
      "Done!\n",
      "Pickling treated data...\n",
      "Done!\n"
     ]
    }
   ],
   "source": [
    "df = read_interval(None, None)"
   ]
  },
  {
   "cell_type": "code",
   "execution_count": 35,
   "metadata": {
    "collapsed": false
   },
   "outputs": [
    {
     "data": {
      "text/html": [
       "<div>\n",
       "<table border=\"1\" class=\"dataframe\">\n",
       "  <thead>\n",
       "    <tr style=\"text-align: right;\">\n",
       "      <th></th>\n",
       "      <th>2015-07-01 00:00:00</th>\n",
       "      <th>2015-07-02 00:00:00</th>\n",
       "      <th>2015-07-03 00:00:00</th>\n",
       "      <th>2015-07-04 00:00:00</th>\n",
       "      <th>2015-07-05 00:00:00</th>\n",
       "      <th>2015-07-06 00:00:00</th>\n",
       "      <th>2015-07-07 00:00:00</th>\n",
       "      <th>2015-07-08 00:00:00</th>\n",
       "      <th>2015-07-09 00:00:00</th>\n",
       "      <th>2015-07-10 00:00:00</th>\n",
       "      <th>...</th>\n",
       "      <th>2016-12-22 00:00:00</th>\n",
       "      <th>2016-12-23 00:00:00</th>\n",
       "      <th>2016-12-24 00:00:00</th>\n",
       "      <th>2016-12-25 00:00:00</th>\n",
       "      <th>2016-12-26 00:00:00</th>\n",
       "      <th>2016-12-27 00:00:00</th>\n",
       "      <th>2016-12-28 00:00:00</th>\n",
       "      <th>2016-12-29 00:00:00</th>\n",
       "      <th>2016-12-30 00:00:00</th>\n",
       "      <th>2016-12-31 00:00:00</th>\n",
       "    </tr>\n",
       "    <tr>\n",
       "      <th>Page</th>\n",
       "      <th></th>\n",
       "      <th></th>\n",
       "      <th></th>\n",
       "      <th></th>\n",
       "      <th></th>\n",
       "      <th></th>\n",
       "      <th></th>\n",
       "      <th></th>\n",
       "      <th></th>\n",
       "      <th></th>\n",
       "      <th></th>\n",
       "      <th></th>\n",
       "      <th></th>\n",
       "      <th></th>\n",
       "      <th></th>\n",
       "      <th></th>\n",
       "      <th></th>\n",
       "      <th></th>\n",
       "      <th></th>\n",
       "      <th></th>\n",
       "      <th></th>\n",
       "    </tr>\n",
       "  </thead>\n",
       "  <tbody>\n",
       "    <tr>\n",
       "      <th>!vote_en.wikipedia.org_all-access_all-agents</th>\n",
       "      <td>3.0</td>\n",
       "      <td>4.0</td>\n",
       "      <td>7.0</td>\n",
       "      <td>4.0</td>\n",
       "      <td>4.0</td>\n",
       "      <td>2.0</td>\n",
       "      <td>3.0</td>\n",
       "      <td>7.0</td>\n",
       "      <td>2.0</td>\n",
       "      <td>NaN</td>\n",
       "      <td>...</td>\n",
       "      <td>3.0</td>\n",
       "      <td>1.0</td>\n",
       "      <td>6.0</td>\n",
       "      <td>3.0</td>\n",
       "      <td>1.0</td>\n",
       "      <td>1.0</td>\n",
       "      <td>4.0</td>\n",
       "      <td>3.0</td>\n",
       "      <td>1.0</td>\n",
       "      <td>1.0</td>\n",
       "    </tr>\n",
       "    <tr>\n",
       "      <th>!vote_en.wikipedia.org_all-access_spider</th>\n",
       "      <td>0.0</td>\n",
       "      <td>0.0</td>\n",
       "      <td>1.0</td>\n",
       "      <td>2.0</td>\n",
       "      <td>0.0</td>\n",
       "      <td>1.0</td>\n",
       "      <td>0.0</td>\n",
       "      <td>0.0</td>\n",
       "      <td>2.0</td>\n",
       "      <td>NaN</td>\n",
       "      <td>...</td>\n",
       "      <td>2.0</td>\n",
       "      <td>0.0</td>\n",
       "      <td>2.0</td>\n",
       "      <td>2.0</td>\n",
       "      <td>0.0</td>\n",
       "      <td>0.0</td>\n",
       "      <td>1.0</td>\n",
       "      <td>1.0</td>\n",
       "      <td>1.0</td>\n",
       "      <td>0.0</td>\n",
       "    </tr>\n",
       "    <tr>\n",
       "      <th>!vote_en.wikipedia.org_desktop_all-agents</th>\n",
       "      <td>3.0</td>\n",
       "      <td>4.0</td>\n",
       "      <td>7.0</td>\n",
       "      <td>4.0</td>\n",
       "      <td>4.0</td>\n",
       "      <td>2.0</td>\n",
       "      <td>3.0</td>\n",
       "      <td>7.0</td>\n",
       "      <td>2.0</td>\n",
       "      <td>NaN</td>\n",
       "      <td>...</td>\n",
       "      <td>3.0</td>\n",
       "      <td>1.0</td>\n",
       "      <td>6.0</td>\n",
       "      <td>3.0</td>\n",
       "      <td>1.0</td>\n",
       "      <td>1.0</td>\n",
       "      <td>3.0</td>\n",
       "      <td>3.0</td>\n",
       "      <td>1.0</td>\n",
       "      <td>0.0</td>\n",
       "    </tr>\n",
       "    <tr>\n",
       "      <th>\"Awaken,_My_Love!\"_en.wikipedia.org_all-access_all-agents</th>\n",
       "      <td>NaN</td>\n",
       "      <td>NaN</td>\n",
       "      <td>NaN</td>\n",
       "      <td>NaN</td>\n",
       "      <td>NaN</td>\n",
       "      <td>NaN</td>\n",
       "      <td>NaN</td>\n",
       "      <td>NaN</td>\n",
       "      <td>NaN</td>\n",
       "      <td>NaN</td>\n",
       "      <td>...</td>\n",
       "      <td>4923.0</td>\n",
       "      <td>5074.0</td>\n",
       "      <td>4149.0</td>\n",
       "      <td>4209.0</td>\n",
       "      <td>3783.0</td>\n",
       "      <td>3994.0</td>\n",
       "      <td>3910.0</td>\n",
       "      <td>4006.0</td>\n",
       "      <td>3841.0</td>\n",
       "      <td>3517.0</td>\n",
       "    </tr>\n",
       "    <tr>\n",
       "      <th>\"Awaken,_My_Love!\"_en.wikipedia.org_all-access_spider</th>\n",
       "      <td>NaN</td>\n",
       "      <td>NaN</td>\n",
       "      <td>NaN</td>\n",
       "      <td>NaN</td>\n",
       "      <td>NaN</td>\n",
       "      <td>NaN</td>\n",
       "      <td>NaN</td>\n",
       "      <td>NaN</td>\n",
       "      <td>NaN</td>\n",
       "      <td>NaN</td>\n",
       "      <td>...</td>\n",
       "      <td>89.0</td>\n",
       "      <td>12.0</td>\n",
       "      <td>63.0</td>\n",
       "      <td>15.0</td>\n",
       "      <td>38.0</td>\n",
       "      <td>14.0</td>\n",
       "      <td>59.0</td>\n",
       "      <td>40.0</td>\n",
       "      <td>35.0</td>\n",
       "      <td>45.0</td>\n",
       "    </tr>\n",
       "  </tbody>\n",
       "</table>\n",
       "<p>5 rows × 550 columns</p>\n",
       "</div>"
      ],
      "text/plain": [
       "                                                    2015-07-01  2015-07-02  \\\n",
       "Page                                                                         \n",
       "!vote_en.wikipedia.org_all-access_all-agents               3.0         4.0   \n",
       "!vote_en.wikipedia.org_all-access_spider                   0.0         0.0   \n",
       "!vote_en.wikipedia.org_desktop_all-agents                  3.0         4.0   \n",
       "\"Awaken,_My_Love!\"_en.wikipedia.org_all-access_...         NaN         NaN   \n",
       "\"Awaken,_My_Love!\"_en.wikipedia.org_all-access_...         NaN         NaN   \n",
       "\n",
       "                                                    2015-07-03  2015-07-04  \\\n",
       "Page                                                                         \n",
       "!vote_en.wikipedia.org_all-access_all-agents               7.0         4.0   \n",
       "!vote_en.wikipedia.org_all-access_spider                   1.0         2.0   \n",
       "!vote_en.wikipedia.org_desktop_all-agents                  7.0         4.0   \n",
       "\"Awaken,_My_Love!\"_en.wikipedia.org_all-access_...         NaN         NaN   \n",
       "\"Awaken,_My_Love!\"_en.wikipedia.org_all-access_...         NaN         NaN   \n",
       "\n",
       "                                                    2015-07-05  2015-07-06  \\\n",
       "Page                                                                         \n",
       "!vote_en.wikipedia.org_all-access_all-agents               4.0         2.0   \n",
       "!vote_en.wikipedia.org_all-access_spider                   0.0         1.0   \n",
       "!vote_en.wikipedia.org_desktop_all-agents                  4.0         2.0   \n",
       "\"Awaken,_My_Love!\"_en.wikipedia.org_all-access_...         NaN         NaN   \n",
       "\"Awaken,_My_Love!\"_en.wikipedia.org_all-access_...         NaN         NaN   \n",
       "\n",
       "                                                    2015-07-07  2015-07-08  \\\n",
       "Page                                                                         \n",
       "!vote_en.wikipedia.org_all-access_all-agents               3.0         7.0   \n",
       "!vote_en.wikipedia.org_all-access_spider                   0.0         0.0   \n",
       "!vote_en.wikipedia.org_desktop_all-agents                  3.0         7.0   \n",
       "\"Awaken,_My_Love!\"_en.wikipedia.org_all-access_...         NaN         NaN   \n",
       "\"Awaken,_My_Love!\"_en.wikipedia.org_all-access_...         NaN         NaN   \n",
       "\n",
       "                                                    2015-07-09  2015-07-10  \\\n",
       "Page                                                                         \n",
       "!vote_en.wikipedia.org_all-access_all-agents               2.0         NaN   \n",
       "!vote_en.wikipedia.org_all-access_spider                   2.0         NaN   \n",
       "!vote_en.wikipedia.org_desktop_all-agents                  2.0         NaN   \n",
       "\"Awaken,_My_Love!\"_en.wikipedia.org_all-access_...         NaN         NaN   \n",
       "\"Awaken,_My_Love!\"_en.wikipedia.org_all-access_...         NaN         NaN   \n",
       "\n",
       "                                                       ...      2016-12-22  \\\n",
       "Page                                                   ...                   \n",
       "!vote_en.wikipedia.org_all-access_all-agents           ...             3.0   \n",
       "!vote_en.wikipedia.org_all-access_spider               ...             2.0   \n",
       "!vote_en.wikipedia.org_desktop_all-agents              ...             3.0   \n",
       "\"Awaken,_My_Love!\"_en.wikipedia.org_all-access_...     ...          4923.0   \n",
       "\"Awaken,_My_Love!\"_en.wikipedia.org_all-access_...     ...            89.0   \n",
       "\n",
       "                                                    2016-12-23  2016-12-24  \\\n",
       "Page                                                                         \n",
       "!vote_en.wikipedia.org_all-access_all-agents               1.0         6.0   \n",
       "!vote_en.wikipedia.org_all-access_spider                   0.0         2.0   \n",
       "!vote_en.wikipedia.org_desktop_all-agents                  1.0         6.0   \n",
       "\"Awaken,_My_Love!\"_en.wikipedia.org_all-access_...      5074.0      4149.0   \n",
       "\"Awaken,_My_Love!\"_en.wikipedia.org_all-access_...        12.0        63.0   \n",
       "\n",
       "                                                    2016-12-25  2016-12-26  \\\n",
       "Page                                                                         \n",
       "!vote_en.wikipedia.org_all-access_all-agents               3.0         1.0   \n",
       "!vote_en.wikipedia.org_all-access_spider                   2.0         0.0   \n",
       "!vote_en.wikipedia.org_desktop_all-agents                  3.0         1.0   \n",
       "\"Awaken,_My_Love!\"_en.wikipedia.org_all-access_...      4209.0      3783.0   \n",
       "\"Awaken,_My_Love!\"_en.wikipedia.org_all-access_...        15.0        38.0   \n",
       "\n",
       "                                                    2016-12-27  2016-12-28  \\\n",
       "Page                                                                         \n",
       "!vote_en.wikipedia.org_all-access_all-agents               1.0         4.0   \n",
       "!vote_en.wikipedia.org_all-access_spider                   0.0         1.0   \n",
       "!vote_en.wikipedia.org_desktop_all-agents                  1.0         3.0   \n",
       "\"Awaken,_My_Love!\"_en.wikipedia.org_all-access_...      3994.0      3910.0   \n",
       "\"Awaken,_My_Love!\"_en.wikipedia.org_all-access_...        14.0        59.0   \n",
       "\n",
       "                                                    2016-12-29  2016-12-30  \\\n",
       "Page                                                                         \n",
       "!vote_en.wikipedia.org_all-access_all-agents               3.0         1.0   \n",
       "!vote_en.wikipedia.org_all-access_spider                   1.0         1.0   \n",
       "!vote_en.wikipedia.org_desktop_all-agents                  3.0         1.0   \n",
       "\"Awaken,_My_Love!\"_en.wikipedia.org_all-access_...      4006.0      3841.0   \n",
       "\"Awaken,_My_Love!\"_en.wikipedia.org_all-access_...        40.0        35.0   \n",
       "\n",
       "                                                    2016-12-31  \n",
       "Page                                                            \n",
       "!vote_en.wikipedia.org_all-access_all-agents               1.0  \n",
       "!vote_en.wikipedia.org_all-access_spider                   0.0  \n",
       "!vote_en.wikipedia.org_desktop_all-agents                  0.0  \n",
       "\"Awaken,_My_Love!\"_en.wikipedia.org_all-access_...      3517.0  \n",
       "\"Awaken,_My_Love!\"_en.wikipedia.org_all-access_...        45.0  \n",
       "\n",
       "[5 rows x 550 columns]"
      ]
     },
     "execution_count": 35,
     "metadata": {},
     "output_type": "execute_result"
    }
   ],
   "source": [
    "df.head()"
   ]
  },
  {
   "cell_type": "code",
   "execution_count": 91,
   "metadata": {
    "collapsed": false
   },
   "outputs": [
    {
     "data": {
      "text/plain": [
       "(145063, 550)"
      ]
     },
     "execution_count": 91,
     "metadata": {},
     "output_type": "execute_result"
    }
   ],
   "source": [
    "df.shape"
   ]
  },
  {
   "cell_type": "markdown",
   "metadata": {},
   "source": [
    "16 mins with dataframe access <br>\n",
    "6 segs with numpy arrays <br>\n",
    "289ms with numba <br>"
   ]
  },
  {
   "cell_type": "code",
   "execution_count": 98,
   "metadata": {
    "collapsed": false
   },
   "outputs": [
    {
     "name": "stdout",
     "output_type": "stream",
     "text": [
      "CPU times: user 291 ms, sys: 0 ns, total: 291 ms\n",
      "Wall time: 289 ms\n"
     ]
    }
   ],
   "source": [
    "%%time\n",
    "import time\n",
    "import numba\n",
    "\n",
    "@numba.jit(nopython=True)\n",
    "def calculate_start_end(data: np.ndarray):\n",
    "    '''\n",
    "    Calculates start and end of series.\n",
    "    Start = first non nan value\n",
    "    End = last non nan value\n",
    "    '''\n",
    "    rows, columns = data.shape[0], data.shape[1]\n",
    "    \n",
    "    # array where idx will be stored. if none is found, defaults to -1\n",
    "    start_idx = np.full(rows, -1, dtype=np.int32)\n",
    "    end_idx = np.full(rows, -1, dtype=np.int32)\n",
    "    \n",
    "    for page in range(rows):\n",
    "        #start idx\n",
    "        for day in range(columns):\n",
    "            # if nan 1, get index for 1\n",
    "            if not np.isnan(data[page, day]) and data[page, day] > 0:\n",
    "                start_idx[page] = day\n",
    "                break\n",
    "        for day in range(columns -1, -1, -1):\n",
    "            if not np.isnan(data[page, day]) and data[page, day] > 0:\n",
    "                end_idx[page] = day\n",
    "                break\n",
    "        \n",
    "    return start_idx, end_idx\n",
    "\n",
    "start, end = calculate_start_end(df.values)\n",
    "\n"
   ]
  },
  {
   "cell_type": "code",
   "execution_count": 105,
   "metadata": {
    "collapsed": true
   },
   "outputs": [],
   "source": [
    "def clean_data(threshold, start=None, end=None):\n",
    "    '''\n",
    "    Loads data, setting Page as index, and columns as datetime dtypes.\n",
    "    Removes series that don't comply to minimum threshold of nan to value ratio\n",
    "    Returns normalized series (log1p), indexes of previously nan values, start and end indexes\n",
    "    '''\n",
    "    df = read_interval(start, end)\n",
    "    start, end = calculate_start_end(df.values)\n",
    "    bool_mask = ~(((end - start) / df.shape[1]) < threshold)\n",
    "    df = df[bool_mask]\n",
    "    \n",
    "    nan_values = pd.isnull(df)\n",
    "    return np.log1p(df.fillna(0)), nan_values, start, end"
   ]
  },
  {
   "cell_type": "code",
   "execution_count": 106,
   "metadata": {
    "collapsed": true
   },
   "outputs": [],
   "source": [
    "normalized, nans, start, end = clean_data(0.3)"
   ]
  },
  {
   "cell_type": "code",
   "execution_count": 111,
   "metadata": {
    "collapsed": false
   },
   "outputs": [
    {
     "data": {
      "text/plain": [
       "4929"
      ]
     },
     "execution_count": 111,
     "metadata": {},
     "output_type": "execute_result"
    }
   ],
   "source": [
    "df.shape[0] - normalized.shape[0]"
   ]
  },
  {
   "cell_type": "code",
   "execution_count": 114,
   "metadata": {
    "collapsed": false
   },
   "outputs": [
    {
     "data": {
      "text/plain": [
       "array([549, 548, 548, ..., 549, 549, 549], dtype=int32)"
      ]
     },
     "execution_count": 114,
     "metadata": {},
     "output_type": "execute_result"
    }
   ],
   "source": [
    "end"
   ]
  },
  {
   "cell_type": "markdown",
   "metadata": {},
   "source": [
    "# Extracting features from URL"
   ]
  },
  {
   "cell_type": "code",
   "execution_count": null,
   "metadata": {
    "collapsed": true
   },
   "outputs": [],
   "source": [
    "pat = re.compile(\n",
    "    '(.+)_([a-z]{2}\\.)?((?:wikipedia\\.org)|(?:commons\\.wikimedia\\.org)|(?:www\\.wikimedia\\.org)|(?:www\\.mediawiki\\.org))_([a-z-]+?)_([a-z-]+)$'\n",
    ")\n",
    "\n",
    "def extract_from_url(urls):\n",
    "    '''\n",
    "    receives pandas dataframe column or series\n",
    "    returns a pandas dataframe with all the extracted features\n",
    "    '''\n",
    "    \n",
    "    if isinstance(urls, pd.Series):\n",
    "         urls = urls.values\n",
    "    \n",
    "    accesses = np.full_like(urls, np.NaN)\n",
    "    agents = np.full_like(urls, np.NaN)\n",
    "    sites = np.full_like(urls, np.NaN)\n",
    "    countries = np.full_like(urls, np.NaN)\n",
    "    titles = np.full_like(urls, np.nan)\n",
    "    \n",
    "    for i in range(len(urls)):\n",
    "        url = urls[i]\n",
    "        match = pat.fullmatch(url)\n",
    "        assert match, \"regex pattern matching failed %s\" % url\n",
    "        \n",
    "        titles[i] = match.group(1)\n",
    "        \n",
    "        country = match.group(2)\n",
    "        if country:\n",
    "            countries[i] = country[:-1]\n",
    "        else:\n",
    "            countries[i] = 'na'\n",
    "            \n",
    "        sites[i] = match.group(3)\n",
    "        \n",
    "        agents[i] = match.group(4)\n",
    "        accesses[i] = match.group(5)\n",
    "        \n",
    "    return pd.DataFrame({\n",
    "        'page': urls,\n",
    "        'title': titles,\n",
    "        'agent': agents,\n",
    "        'access': accesses,\n",
    "        'site': sites,\n",
    "        'country': countries,\n",
    "    })"
   ]
  }
 ],
 "metadata": {
  "kernelspec": {
   "display_name": "Python 3",
   "language": "python",
   "name": "python3"
  },
  "language_info": {
   "codemirror_mode": {
    "name": "ipython",
    "version": 3
   },
   "file_extension": ".py",
   "mimetype": "text/x-python",
   "name": "python",
   "nbconvert_exporter": "python",
   "pygments_lexer": "ipython3",
   "version": "3.6.0"
  },
  "toc": {
   "nav_menu": {},
   "number_sections": true,
   "sideBar": true,
   "skip_h1_title": false,
   "toc_cell": false,
   "toc_position": {},
   "toc_section_display": "block",
   "toc_window_display": true
  }
 },
 "nbformat": 4,
 "nbformat_minor": 2
}
